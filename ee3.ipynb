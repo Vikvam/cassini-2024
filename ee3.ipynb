{
 "cells": [
  {
   "cell_type": "code",
   "execution_count": null,
   "id": "initial_id",
   "metadata": {
    "collapsed": true
   },
   "outputs": [],
   "source": []
  },
  {
   "cell_type": "code",
   "execution_count": 4,
   "outputs": [
    {
     "data": {
      "text/plain": "<IPython.core.display.HTML object>",
      "text/html": "\n            <style>\n                .geemap-dark {\n                    --jp-widgets-color: white;\n                    --jp-widgets-label-color: white;\n                    --jp-ui-font-color1: white;\n                    --jp-layout-color2: #454545;\n                    background-color: #383838;\n                }\n\n                .geemap-dark .jupyter-button {\n                    --jp-layout-color3: #383838;\n                }\n\n                .geemap-colab {\n                    background-color: var(--colab-primary-surface-color, white);\n                }\n\n                .geemap-colab .jupyter-button {\n                    --jp-layout-color3: var(--colab-primary-surface-color, white);\n                }\n            </style>\n            "
     },
     "metadata": {},
     "output_type": "display_data"
    }
   ],
   "source": [
    "import ee\n",
    "import geemap\n",
    "import os\n",
    "\n",
    "# Initialize Earth Engine\n",
    "ee.Initialize()"
   ],
   "metadata": {
    "collapsed": false,
    "ExecuteTime": {
     "end_time": "2024-09-14T14:48:30.678330734Z",
     "start_time": "2024-09-14T14:48:30.084297801Z"
    }
   },
   "id": "1f1f9cfd6318ca49"
  },
  {
   "cell_type": "code",
   "execution_count": 5,
   "outputs": [
    {
     "data": {
      "text/plain": "<IPython.core.display.HTML object>",
      "text/html": "\n            <style>\n                .geemap-dark {\n                    --jp-widgets-color: white;\n                    --jp-widgets-label-color: white;\n                    --jp-ui-font-color1: white;\n                    --jp-layout-color2: #454545;\n                    background-color: #383838;\n                }\n\n                .geemap-dark .jupyter-button {\n                    --jp-layout-color3: #383838;\n                }\n\n                .geemap-colab {\n                    background-color: var(--colab-primary-surface-color, white);\n                }\n\n                .geemap-colab .jupyter-button {\n                    --jp-layout-color3: var(--colab-primary-surface-color, white);\n                }\n            </style>\n            "
     },
     "metadata": {},
     "output_type": "display_data"
    }
   ],
   "source": [
    "prague = ee.Geometry.Point(14.4378, 50.0755).buffer(5000)"
   ],
   "metadata": {
    "collapsed": false,
    "ExecuteTime": {
     "end_time": "2024-09-14T14:48:30.798998980Z",
     "start_time": "2024-09-14T14:48:30.756606381Z"
    }
   },
   "id": "1bef3e994c1601c6"
  },
  {
   "cell_type": "code",
   "execution_count": 6,
   "outputs": [
    {
     "data": {
      "text/plain": "<IPython.core.display.HTML object>",
      "text/html": "\n            <style>\n                .geemap-dark {\n                    --jp-widgets-color: white;\n                    --jp-widgets-label-color: white;\n                    --jp-ui-font-color1: white;\n                    --jp-layout-color2: #454545;\n                    background-color: #383838;\n                }\n\n                .geemap-dark .jupyter-button {\n                    --jp-layout-color3: #383838;\n                }\n\n                .geemap-colab {\n                    background-color: var(--colab-primary-surface-color, white);\n                }\n\n                .geemap-colab .jupyter-button {\n                    --jp-layout-color3: var(--colab-primary-surface-color, white);\n                }\n            </style>\n            "
     },
     "metadata": {},
     "output_type": "display_data"
    },
    {
     "name": "stdout",
     "output_type": "stream",
     "text": [
      "Generating URL ...\n",
      "Downloading data from https://earthengine.googleapis.com/v1/projects/earthengine-legacy/thumbnails/a28d69fa0973dc50bb5bb27e7781713a-6873eebe1d0b8068e9f6a75afb0e1654:getPixels\n",
      "Please wait ...\n",
      "Data downloaded to /home/basta/Projects/cassini-2024/prague_2019.tif\n",
      "Generating URL ...\n",
      "Downloading data from https://earthengine.googleapis.com/v1/projects/earthengine-legacy/thumbnails/370a7f04622b654fdc52a983ea26a681-4acf621e7f1dd793a0310feb2687d6a5:getPixels\n",
      "Please wait ...\n",
      "Data downloaded to /home/basta/Projects/cassini-2024/prague_2020.tif\n",
      "Generating URL ...\n",
      "Downloading data from https://earthengine.googleapis.com/v1/projects/earthengine-legacy/thumbnails/108b97a4c619233c4442344a8d685233-375a607cd041a0a29407dff85a6325b8:getPixels\n",
      "Please wait ...\n",
      "An error occurred while downloading.\n",
      "Generating URL ...\n",
      "Downloading data from https://earthengine.googleapis.com/v1/projects/earthengine-legacy/thumbnails/9599177a147719ddc7b7b09a0026690a-99a3d5e4d798d42fdf13e5b5f7d83e5a:getPixels\n",
      "Please wait ...\n",
      "Data downloaded to /home/basta/Projects/cassini-2024/prague_2022.tif\n",
      "Generating URL ...\n",
      "Downloading data from https://earthengine.googleapis.com/v1/projects/earthengine-legacy/thumbnails/c597ac696d4432a8694b6863ef5c8d8d-a81f6be6926016000631cacec0a2d91a:getPixels\n",
      "Please wait ...\n",
      "Data downloaded to /home/basta/Projects/cassini-2024/prague_2023.tif\n"
     ]
    }
   ],
   "source": [
    "def download_prague_image(year):\n",
    "    start_date = f'{year}-01-01'\n",
    "    end_date = f'{year}-12-31'\n",
    "    \n",
    "    # Get Sentinel-2 imagery\n",
    "    s2_collection = ee.ImageCollection('COPERNICUS/S2_SR') \\\n",
    "        .filterBounds(prague) \\\n",
    "        .filterDate(start_date, end_date) \\\n",
    "        .filter(ee.Filter.lt('CLOUDY_PIXEL_PERCENTAGE', 20))\n",
    "    \n",
    "    # Create a median composite\n",
    "    composite = s2_collection.median()\n",
    "    \n",
    "    # Select RGB bands and clip to Prague area\n",
    "    rgb_image = composite.select(['B4', 'B3', 'B2']).clip(prague)\n",
    "    \n",
    "    # Set visualization parameters\n",
    "    vis_params = {'min': 0, 'max': 3000, 'bands': ['B4', 'B3', 'B2']}\n",
    "    \n",
    "    # Download the image\n",
    "    geemap.ee_export_image(\n",
    "        rgb_image, \n",
    "        filename=f'prague_{year}.tif', \n",
    "        scale=10, \n",
    "        region=prague, \n",
    "        file_per_band=False\n",
    "    )\n",
    "\n",
    "# Download images for multiple years\n",
    "years = [2019, 2020, 2021, 2022, 2023]\n",
    "for year in years:\n",
    "    download_prague_image(year)\n"
   ],
   "metadata": {
    "collapsed": false,
    "ExecuteTime": {
     "end_time": "2024-09-14T14:51:34.148973460Z",
     "start_time": "2024-09-14T14:48:31.325349385Z"
    }
   },
   "id": "9bfde0c9c3ebf7c"
  }
 ],
 "metadata": {
  "kernelspec": {
   "display_name": "Python 3",
   "language": "python",
   "name": "python3"
  },
  "language_info": {
   "codemirror_mode": {
    "name": "ipython",
    "version": 2
   },
   "file_extension": ".py",
   "mimetype": "text/x-python",
   "name": "python",
   "nbconvert_exporter": "python",
   "pygments_lexer": "ipython2",
   "version": "2.7.6"
  }
 },
 "nbformat": 4,
 "nbformat_minor": 5
}
