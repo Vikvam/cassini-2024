{
 "cells": [
  {
   "cell_type": "code",
   "execution_count": 1,
   "id": "initial_id",
   "metadata": {
    "collapsed": true,
    "ExecuteTime": {
     "end_time": "2024-09-14T19:29:46.826196418Z",
     "start_time": "2024-09-14T19:29:42.992246221Z"
    }
   },
   "outputs": [],
   "source": [
    "from bs4 import BeautifulSoup\n",
    "import pandas as pd\n",
    "\n",
    "# Assuming 'html' is your HTML content\n",
    "soup = BeautifulSoup(open(\"shapedata.html\").read(), 'html.parser')\n",
    "\n",
    "# Find the table\n",
    "table = soup.find('table')\n",
    "\n",
    "data = []\n",
    "\n",
    "# Iterate over each row\n",
    "for row in table.find_all('tr'):\n",
    "    cells = row.find_all('td')\n",
    "    if len(cells) > 4:  # Ensure there are enough cells\n",
    "        filename = cells[3].text  # 4th cell\n",
    "        description = cells[4].text  # 5th cell\n",
    "        data.append({'filename': filename, 'description': description})\n",
    "\n",
    "# Convert list of dictionaries into DataFrame\n",
    "df = pd.DataFrame(data)\n",
    "# Convert DataFram into JSON\n",
    "json_data = df.to_json(orient='records')"
   ]
  },
  {
   "cell_type": "code",
   "execution_count": 9,
   "outputs": [
    {
     "data": {
      "text/plain": "         filename                          description\n0      600016.zip                    Abertamy [600016]\n1      600032.zip  Adamov u Českých Budějovic [600032]\n2      663409.zip           Adamov u Karlovic [663409]\n3      771473.zip            Adamov u Tupadel [771473]\n4      600041.zip                      Adamov [600041]\n...           ...                                  ...\n13070  797804.zip                      Žulová [797804]\n13071  794554.zip      Žumberk u Nových Hradů [794554]\n13072  797839.zip                     Žumberk [797839]\n13073  655091.zip          Županovice u Dešné [655091]\n13074  632392.zip                  Županovice [632392]\n\n[13075 rows x 2 columns]",
      "text/html": "<div>\n<style scoped>\n    .dataframe tbody tr th:only-of-type {\n        vertical-align: middle;\n    }\n\n    .dataframe tbody tr th {\n        vertical-align: top;\n    }\n\n    .dataframe thead th {\n        text-align: right;\n    }\n</style>\n<table border=\"1\" class=\"dataframe\">\n  <thead>\n    <tr style=\"text-align: right;\">\n      <th></th>\n      <th>filename</th>\n      <th>description</th>\n    </tr>\n  </thead>\n  <tbody>\n    <tr>\n      <th>0</th>\n      <td>600016.zip</td>\n      <td>Abertamy [600016]</td>\n    </tr>\n    <tr>\n      <th>1</th>\n      <td>600032.zip</td>\n      <td>Adamov u Českých Budějovic [600032]</td>\n    </tr>\n    <tr>\n      <th>2</th>\n      <td>663409.zip</td>\n      <td>Adamov u Karlovic [663409]</td>\n    </tr>\n    <tr>\n      <th>3</th>\n      <td>771473.zip</td>\n      <td>Adamov u Tupadel [771473]</td>\n    </tr>\n    <tr>\n      <th>4</th>\n      <td>600041.zip</td>\n      <td>Adamov [600041]</td>\n    </tr>\n    <tr>\n      <th>...</th>\n      <td>...</td>\n      <td>...</td>\n    </tr>\n    <tr>\n      <th>13070</th>\n      <td>797804.zip</td>\n      <td>Žulová [797804]</td>\n    </tr>\n    <tr>\n      <th>13071</th>\n      <td>794554.zip</td>\n      <td>Žumberk u Nových Hradů [794554]</td>\n    </tr>\n    <tr>\n      <th>13072</th>\n      <td>797839.zip</td>\n      <td>Žumberk [797839]</td>\n    </tr>\n    <tr>\n      <th>13073</th>\n      <td>655091.zip</td>\n      <td>Županovice u Dešné [655091]</td>\n    </tr>\n    <tr>\n      <th>13074</th>\n      <td>632392.zip</td>\n      <td>Županovice [632392]</td>\n    </tr>\n  </tbody>\n</table>\n<p>13075 rows × 2 columns</p>\n</div>"
     },
     "execution_count": 9,
     "metadata": {},
     "output_type": "execute_result"
    }
   ],
   "source": [
    "df = pd.read_csv('shapedata.csv'); df"
   ],
   "metadata": {
    "collapsed": false,
    "ExecuteTime": {
     "end_time": "2024-09-14T19:47:57.776967442Z",
     "start_time": "2024-09-14T19:47:57.648468171Z"
    }
   },
   "id": "9cffde95706bb7cc"
  },
  {
   "cell_type": "code",
   "execution_count": 27,
   "outputs": [
    {
     "name": "stderr",
     "output_type": "stream",
     "text": [
      "/tmp/ipykernel_161108/3574310988.py:4: UserWarning: Geometry is in a geographic CRS. Results from 'centroid' are likely incorrect. Use 'GeoSeries.to_crs()' to re-project geometries to a projected CRS before this operation.\n",
      "\n",
      "  gdf[\"geometry\"].centroid.x[0]\n"
     ]
    },
    {
     "data": {
      "text/plain": "12.827140384396856"
     },
     "execution_count": 27,
     "metadata": {},
     "output_type": "execute_result"
    }
   ],
   "source": [
    "import geopandas as gpd\n",
    "gdf = gpd.read_file(\"/home/basta/shp/ku/epsg-5514/600016/600016/KATASTRALNI_UZEMI_P.shp\")\n",
    "gdf = gdf.to_crs(epsg=4326)\n",
    "gdf[\"geometry\"].centroid.x[0]"
   ],
   "metadata": {
    "collapsed": false,
    "ExecuteTime": {
     "end_time": "2024-09-14T20:05:48.393905614Z",
     "start_time": "2024-09-14T20:05:48.350816204Z"
    }
   },
   "id": "f864f324a3cd92e2"
  }
 ],
 "metadata": {
  "kernelspec": {
   "display_name": "Python 3",
   "language": "python",
   "name": "python3"
  },
  "language_info": {
   "codemirror_mode": {
    "name": "ipython",
    "version": 2
   },
   "file_extension": ".py",
   "mimetype": "text/x-python",
   "name": "python",
   "nbconvert_exporter": "python",
   "pygments_lexer": "ipython2",
   "version": "2.7.6"
  }
 },
 "nbformat": 4,
 "nbformat_minor": 5
}
