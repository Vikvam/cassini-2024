{
 "cells": [
  {
   "cell_type": "code",
   "execution_count": 3,
   "outputs": [
    {
     "data": {
      "text/plain": "<IPython.core.display.HTML object>",
      "text/html": "\n            <style>\n                .geemap-dark {\n                    --jp-widgets-color: white;\n                    --jp-widgets-label-color: white;\n                    --jp-ui-font-color1: white;\n                    --jp-layout-color2: #454545;\n                    background-color: #383838;\n                }\n\n                .geemap-dark .jupyter-button {\n                    --jp-layout-color3: #383838;\n                }\n\n                .geemap-colab {\n                    background-color: var(--colab-primary-surface-color, white);\n                }\n\n                .geemap-colab .jupyter-button {\n                    --jp-layout-color3: var(--colab-primary-surface-color, white);\n                }\n            </style>\n            "
     },
     "metadata": {},
     "output_type": "display_data"
    },
    {
     "name": "stdout",
     "output_type": "stream",
     "text": [
      "Task Prague_Composite_2020_01: READY\n",
      "Task Prague_Composite_2020_02: READY\n",
      "Task Prague_Composite_2020_03: READY\n",
      "Task Prague_Composite_2020_04: READY\n",
      "Task Prague_Composite_2020_05: READY\n",
      "Task Prague_Composite_2020_06: READY\n",
      "Task Prague_Composite_2020_07: READY\n",
      "Task Prague_Composite_2020_08: READY\n",
      "Task Prague_Composite_2020_09: READY\n",
      "Task Prague_Composite_2020_10: READY\n",
      "Task Prague_Composite_2020_11: READY\n",
      "Task Prague_Composite_2020_12: READY\n",
      "Task Prague_Composite_2021_01: READY\n",
      "Task Prague_Composite_2021_02: READY\n",
      "Task Prague_Composite_2021_03: READY\n",
      "Task Prague_Composite_2021_04: READY\n",
      "Task Prague_Composite_2021_05: READY\n",
      "Task Prague_Composite_2021_06: READY\n",
      "Task Prague_Composite_2021_07: READY\n",
      "Task Prague_Composite_2021_08: READY\n",
      "Task Prague_Composite_2021_09: READY\n",
      "Task Prague_Composite_2021_10: READY\n",
      "Task Prague_Composite_2021_11: READY\n",
      "Task Prague_Composite_2021_12: READY\n"
     ]
    },
    {
     "ename": "Exception",
     "evalue": "No module named 'streamlit'",
     "output_type": "error",
     "traceback": [
      "\u001B[0;31m---------------------------------------------------------------------------\u001B[0m",
      "\u001B[0;31mModuleNotFoundError\u001B[0m                       Traceback (most recent call last)",
      "File \u001B[0;32m~/.virtualenvs/aiaccesibility/lib/python3.10/site-packages/geemap/geemap.py:3948\u001B[0m, in \u001B[0;36mMap.to_streamlit\u001B[0;34m(self, width, height, scrolling, **kwargs)\u001B[0m\n\u001B[1;32m   3947\u001B[0m \u001B[38;5;28;01mtry\u001B[39;00m:\n\u001B[0;32m-> 3948\u001B[0m     \u001B[38;5;28;01mimport\u001B[39;00m \u001B[38;5;21;01mstreamlit\u001B[39;00m\u001B[38;5;21;01m.\u001B[39;00m\u001B[38;5;21;01mcomponents\u001B[39;00m\u001B[38;5;21;01m.\u001B[39;00m\u001B[38;5;21;01mv1\u001B[39;00m \u001B[38;5;28;01mas\u001B[39;00m \u001B[38;5;21;01mcomponents\u001B[39;00m\n\u001B[1;32m   3950\u001B[0m     \u001B[38;5;66;03m# if responsive:\u001B[39;00m\n\u001B[1;32m   3951\u001B[0m     \u001B[38;5;66;03m#     make_map_responsive = \"\"\"\u001B[39;00m\n\u001B[1;32m   3952\u001B[0m     \u001B[38;5;66;03m#     <style>\u001B[39;00m\n\u001B[0;32m   (...)\u001B[0m\n\u001B[1;32m   3955\u001B[0m     \u001B[38;5;66;03m#     \"\"\"\u001B[39;00m\n\u001B[1;32m   3956\u001B[0m     \u001B[38;5;66;03m#     st.markdown(make_map_responsive, unsafe_allow_html=True)\u001B[39;00m\n",
      "\u001B[0;31mModuleNotFoundError\u001B[0m: No module named 'streamlit'",
      "\nDuring handling of the above exception, another exception occurred:\n",
      "\u001B[0;31mException\u001B[0m                                 Traceback (most recent call last)",
      "Cell \u001B[0;32mIn[3], line 71\u001B[0m\n\u001B[1;32m     69\u001B[0m Map\u001B[38;5;241m.\u001B[39mcenterObject(prague, \u001B[38;5;241m9\u001B[39m)\n\u001B[1;32m     70\u001B[0m Map\u001B[38;5;241m.\u001B[39maddLayer(monthly_composites\u001B[38;5;241m.\u001B[39mfirst(), {\u001B[38;5;124m'\u001B[39m\u001B[38;5;124mbands\u001B[39m\u001B[38;5;124m'\u001B[39m: [\u001B[38;5;124m'\u001B[39m\u001B[38;5;124mB4\u001B[39m\u001B[38;5;124m'\u001B[39m, \u001B[38;5;124m'\u001B[39m\u001B[38;5;124mB3\u001B[39m\u001B[38;5;124m'\u001B[39m, \u001B[38;5;124m'\u001B[39m\u001B[38;5;124mB2\u001B[39m\u001B[38;5;124m'\u001B[39m], \u001B[38;5;124m'\u001B[39m\u001B[38;5;124mmin\u001B[39m\u001B[38;5;124m'\u001B[39m: \u001B[38;5;241m0\u001B[39m, \u001B[38;5;124m'\u001B[39m\u001B[38;5;124mmax\u001B[39m\u001B[38;5;124m'\u001B[39m: \u001B[38;5;241m3000\u001B[39m}, \u001B[38;5;124m'\u001B[39m\u001B[38;5;124mRGB Composite\u001B[39m\u001B[38;5;124m'\u001B[39m)\n\u001B[0;32m---> 71\u001B[0m \u001B[43mMap\u001B[49m\u001B[38;5;241;43m.\u001B[39;49m\u001B[43mto_streamlit\u001B[49m\u001B[43m(\u001B[49m\u001B[43m)\u001B[49m\n",
      "File \u001B[0;32m~/.virtualenvs/aiaccesibility/lib/python3.10/site-packages/geemap/geemap.py:3962\u001B[0m, in \u001B[0;36mMap.to_streamlit\u001B[0;34m(self, width, height, scrolling, **kwargs)\u001B[0m\n\u001B[1;32m   3957\u001B[0m     \u001B[38;5;28;01mreturn\u001B[39;00m components\u001B[38;5;241m.\u001B[39mhtml(\n\u001B[1;32m   3958\u001B[0m         \u001B[38;5;28mself\u001B[39m\u001B[38;5;241m.\u001B[39mto_html(), width\u001B[38;5;241m=\u001B[39mwidth, height\u001B[38;5;241m=\u001B[39mheight, scrolling\u001B[38;5;241m=\u001B[39mscrolling\n\u001B[1;32m   3959\u001B[0m     )\n\u001B[1;32m   3961\u001B[0m \u001B[38;5;28;01mexcept\u001B[39;00m \u001B[38;5;167;01mException\u001B[39;00m \u001B[38;5;28;01mas\u001B[39;00m e:\n\u001B[0;32m-> 3962\u001B[0m     \u001B[38;5;28;01mraise\u001B[39;00m \u001B[38;5;167;01mException\u001B[39;00m(e)\n",
      "\u001B[0;31mException\u001B[0m: No module named 'streamlit'"
     ]
    }
   ],
   "source": [
    "import ee\n",
    "import geemap\n",
    "import os\n",
    "\n",
    "# Initialize Earth Engine\n",
    "ee.Initialize()\n",
    "\n",
    "# Define the area of interest (Prague)\n",
    "prague = ee.Geometry.Point(14.4378, 50.0755).buffer(20000)\n",
    "\n",
    "# Define the time range\n",
    "start_date = '2020-01-01'\n",
    "end_date = '2021-12-31'\n",
    "\n",
    "# Select the Sentinel-2 Surface Reflectance dataset\n",
    "collection = ee.ImageCollection('COPERNICUS/S2_SR_HARMONIZED') \\\n",
    "    .filterBounds(prague) \\\n",
    "    .filterDate(start_date, end_date)\n",
    "\n",
    "# Function to create monthly composites\n",
    "def create_monthly_composite(year, month):\n",
    "    start = ee.Date.fromYMD(year, month, 1)\n",
    "    end = start.advance(1, 'month')\n",
    "    monthly = collection.filterDate(start, end).median()\n",
    "    return monthly.set('year', year).set('month', month)\n",
    "\n",
    "# Create a list of all month/year combinations\n",
    "dates = [\n",
    "    (year, month)\n",
    "    for year in range(2020, 2022)\n",
    "    for month in range(1, 13)\n",
    "]\n",
    "\n",
    "# Create monthly composites\n",
    "monthly_composites = ee.ImageCollection(\n",
    "    ee.List([create_monthly_composite(year, month) for year, month in dates])\n",
    ")\n",
    "\n",
    "# Function to export an image\n",
    "def export_image(image, filename):\n",
    "    task = ee.batch.Export.image.toDrive(\n",
    "        image=image,\n",
    "        description=filename,\n",
    "        scale=10,\n",
    "        region=prague,\n",
    "        maxPixels=1e13\n",
    "    )\n",
    "    task.start()\n",
    "    return task\n",
    "\n",
    "# Export all monthly composites\n",
    "tasks = []\n",
    "for year in range(2020, 2022):\n",
    "    for month in range(1, 13):\n",
    "        image = monthly_composites.filter(ee.Filter.And(\n",
    "            ee.Filter.eq('year', year),\n",
    "            ee.Filter.eq('month', month)\n",
    "        )).first()\n",
    "        filename = f'Prague_Composite_{year}_{month:02d}'\n",
    "        task = export_image(image, filename)\n",
    "        tasks.append(task)\n"
   ],
   "metadata": {
    "collapsed": false,
    "ExecuteTime": {
     "end_time": "2024-09-14T14:07:09.068252595Z",
     "start_time": "2024-09-14T14:06:27.286200958Z"
    }
   },
   "id": "cf6feacc1d513bfb"
  },
  {
   "cell_type": "code",
   "execution_count": 4,
   "outputs": [
    {
     "data": {
      "text/plain": "<IPython.core.display.HTML object>",
      "text/html": "\n            <style>\n                .geemap-dark {\n                    --jp-widgets-color: white;\n                    --jp-widgets-label-color: white;\n                    --jp-ui-font-color1: white;\n                    --jp-layout-color2: #454545;\n                    background-color: #383838;\n                }\n\n                .geemap-dark .jupyter-button {\n                    --jp-layout-color3: #383838;\n                }\n\n                .geemap-colab {\n                    background-color: var(--colab-primary-surface-color, white);\n                }\n\n                .geemap-colab .jupyter-button {\n                    --jp-layout-color3: var(--colab-primary-surface-color, white);\n                }\n            </style>\n            "
     },
     "metadata": {},
     "output_type": "display_data"
    },
    {
     "name": "stdout",
     "output_type": "stream",
     "text": [
      "Task Prague_Composite_2020_01: READY\n",
      "Task Prague_Composite_2020_02: READY\n",
      "Task Prague_Composite_2020_03: READY\n",
      "Task Prague_Composite_2020_04: READY\n",
      "Task Prague_Composite_2020_05: READY\n",
      "Task Prague_Composite_2020_06: READY\n",
      "Task Prague_Composite_2020_07: READY\n",
      "Task Prague_Composite_2020_08: READY\n",
      "Task Prague_Composite_2020_09: READY\n",
      "Task Prague_Composite_2020_10: READY\n",
      "Task Prague_Composite_2020_11: READY\n",
      "Task Prague_Composite_2020_12: READY\n",
      "Task Prague_Composite_2021_01: READY\n",
      "Task Prague_Composite_2021_02: READY\n",
      "Task Prague_Composite_2021_03: READY\n",
      "Task Prague_Composite_2021_04: READY\n",
      "Task Prague_Composite_2021_05: READY\n",
      "Task Prague_Composite_2021_06: READY\n",
      "Task Prague_Composite_2021_07: READY\n",
      "Task Prague_Composite_2021_08: READY\n",
      "Task Prague_Composite_2021_09: READY\n",
      "Task Prague_Composite_2021_10: READY\n",
      "Task Prague_Composite_2021_11: READY\n",
      "Task Prague_Composite_2021_12: READY\n"
     ]
    },
    {
     "name": "stderr",
     "output_type": "stream",
     "text": [
      "2024-09-14 16:08:15.108 WARNING streamlit.runtime.scriptrunner_utils.script_run_context: Thread 'MainThread': missing ScriptRunContext! This warning can be ignored when running in bare mode.\n",
      "2024-09-14 16:08:15.223 \n",
      "  \u001B[33m\u001B[1mWarning:\u001B[0m to view this Streamlit app on a browser, run it with the following\n",
      "  command:\n",
      "\n",
      "    streamlit run /home/basta/.virtualenvs/aiaccesibility/lib/python3.10/site-packages/ipykernel_launcher.py [ARGUMENTS]\n",
      "2024-09-14 16:08:15.223 Thread 'MainThread': missing ScriptRunContext! This warning can be ignored when running in bare mode.\n"
     ]
    },
    {
     "data": {
      "text/plain": "DeltaGenerator()"
     },
     "execution_count": 4,
     "metadata": {},
     "output_type": "execute_result"
    }
   ],
   "source": [
    "\n",
    "# Monitor task status\n",
    "for task in tasks:\n",
    "    print(f\"Task {task.status()['description']}: {task.status()['state']}\")\n",
    "\n",
    "# Optionally, use geemap to visualize a composite\n",
    "Map = geemap.Map()\n",
    "Map.centerObject(prague, 9)\n",
    "Map.addLayer(monthly_composites.first(), {'bands': ['B4', 'B3', 'B2'], 'min': 0, 'max': 3000}, 'RGB Composite')\n",
    "Map.to_streamlit()\n"
   ],
   "metadata": {
    "collapsed": false,
    "ExecuteTime": {
     "end_time": "2024-09-14T14:08:15.249110335Z",
     "start_time": "2024-09-14T14:07:50.514663313Z"
    }
   },
   "id": "d6ba7f4921fb294d"
  }
 ],
 "metadata": {
  "kernelspec": {
   "display_name": "Python 3",
   "language": "python",
   "name": "python3"
  },
  "language_info": {
   "codemirror_mode": {
    "name": "ipython",
    "version": 2
   },
   "file_extension": ".py",
   "mimetype": "text/x-python",
   "name": "python",
   "nbconvert_exporter": "python",
   "pygments_lexer": "ipython2",
   "version": "2.7.6"
  }
 },
 "nbformat": 4,
 "nbformat_minor": 5
}
