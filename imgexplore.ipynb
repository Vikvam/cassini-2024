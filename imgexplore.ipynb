{
 "cells": [
  {
   "cell_type": "code",
   "execution_count": 2,
   "id": "initial_id",
   "metadata": {
    "collapsed": true,
    "ExecuteTime": {
     "end_time": "2024-09-15T08:41:48.969823414Z",
     "start_time": "2024-09-15T08:41:45.940141124Z"
    }
   },
   "outputs": [],
   "source": [
    "import rasterio\n",
    "from rasterio.enums import Resampling\n",
    "\n",
    "with rasterio.open(\"transparent_treese2015.tif\", 'r+') as src:\n",
    "    # Define the overview levels\n",
    "    overviews = [2, 4, 8, 16, 32]\n",
    "                                 \n",
    "    # Generate overviews\n",
    "    src.build_overviews(overviews, Resampling.nearest)\n",
    "\n",
    "    # Update the dataset's metadata to include the overviews\n",
    "    src.update_tags(ns='rio_overview', resampling='nearest')"
   ]
  }
 ],
 "metadata": {
  "kernelspec": {
   "display_name": "Python 3",
   "language": "python",
   "name": "python3"
  },
  "language_info": {
   "codemirror_mode": {
    "name": "ipython",
    "version": 2
   },
   "file_extension": ".py",
   "mimetype": "text/x-python",
   "name": "python",
   "nbconvert_exporter": "python",
   "pygments_lexer": "ipython2",
   "version": "2.7.6"
  }
 },
 "nbformat": 4,
 "nbformat_minor": 5
}
