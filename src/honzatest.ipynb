{
 "cells": [
  {
   "cell_type": "code",
   "execution_count": 1,
   "id": "initial_id",
   "metadata": {
    "collapsed": true,
    "ExecuteTime": {
     "end_time": "2024-09-14T21:56:16.845899362Z",
     "start_time": "2024-09-14T21:56:15.913442211Z"
    }
   },
   "outputs": [
    {
     "data": {
      "text/plain": "   grass_per  grass_km2  tree_per  tree_km2  tree_precise_per  \\\n0   0.729916          0  0.154082     37630           0.10148   \n\n   tree_precise_km2  building_per  building_km2  \n0             24783      0.020883          5100  ",
      "text/html": "<div>\n<style scoped>\n    .dataframe tbody tr th:only-of-type {\n        vertical-align: middle;\n    }\n\n    .dataframe tbody tr th {\n        vertical-align: top;\n    }\n\n    .dataframe thead th {\n        text-align: right;\n    }\n</style>\n<table border=\"1\" class=\"dataframe\">\n  <thead>\n    <tr style=\"text-align: right;\">\n      <th></th>\n      <th>grass_per</th>\n      <th>grass_km2</th>\n      <th>tree_per</th>\n      <th>tree_km2</th>\n      <th>tree_precise_per</th>\n      <th>tree_precise_km2</th>\n      <th>building_per</th>\n      <th>building_km2</th>\n    </tr>\n  </thead>\n  <tbody>\n    <tr>\n      <th>0</th>\n      <td>0.729916</td>\n      <td>0</td>\n      <td>0.154082</td>\n      <td>37630</td>\n      <td>0.10148</td>\n      <td>24783</td>\n      <td>0.020883</td>\n      <td>5100</td>\n    </tr>\n  </tbody>\n</table>\n</div>"
     },
     "execution_count": 1,
     "metadata": {},
     "output_type": "execute_result"
    }
   ],
   "source": [
    "import compute_coverage\n",
    "compute_coverage.compute_cov_id(\"600083\")"
   ]
  }
 ],
 "metadata": {
  "kernelspec": {
   "display_name": "Python 3",
   "language": "python",
   "name": "python3"
  },
  "language_info": {
   "codemirror_mode": {
    "name": "ipython",
    "version": 2
   },
   "file_extension": ".py",
   "mimetype": "text/x-python",
   "name": "python",
   "nbconvert_exporter": "python",
   "pygments_lexer": "ipython2",
   "version": "2.7.6"
  }
 },
 "nbformat": 4,
 "nbformat_minor": 5
}
