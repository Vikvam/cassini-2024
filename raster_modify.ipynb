{
 "cells": [
  {
   "cell_type": "code",
   "execution_count": 1,
   "outputs": [
    {
     "ename": "KeyboardInterrupt",
     "evalue": "",
     "output_type": "error",
     "traceback": [
      "\u001B[0;31m---------------------------------------------------------------------------\u001B[0m",
      "\u001B[0;31mKeyboardInterrupt\u001B[0m                         Traceback (most recent call last)",
      "Cell \u001B[0;32mIn[1], line 25\u001B[0m\n\u001B[1;32m     23\u001B[0m \u001B[38;5;66;03m# Write the raster data with the new alpha band to a new raster file\u001B[39;00m\n\u001B[1;32m     24\u001B[0m \u001B[38;5;28;01mwith\u001B[39;00m rasterio\u001B[38;5;241m.\u001B[39mopen(\u001B[38;5;124m'\u001B[39m\u001B[38;5;124moutput.tif\u001B[39m\u001B[38;5;124m'\u001B[39m, \u001B[38;5;124m'\u001B[39m\u001B[38;5;124mw\u001B[39m\u001B[38;5;124m'\u001B[39m, \u001B[38;5;241m*\u001B[39m\u001B[38;5;241m*\u001B[39mprofile) \u001B[38;5;28;01mas\u001B[39;00m dst:\n\u001B[0;32m---> 25\u001B[0m     \u001B[43mdst\u001B[49m\u001B[38;5;241;43m.\u001B[39;49m\u001B[43mwrite\u001B[49m\u001B[43m(\u001B[49m\u001B[43mdata_with_alpha\u001B[49m\u001B[43m)\u001B[49m\n",
      "\u001B[0;31mKeyboardInterrupt\u001B[0m: "
     ]
    }
   ],
   "source": [
    "import rasterio\n",
    "import numpy as np\n",
    "\n",
    "# Open the raster file\n",
    "with rasterio.open('CLCplus_2018_010m.tif') as src:\n",
    "    # Read the raster data\n",
    "    data = src.read()\n",
    "    \n",
    "    # Create an alpha band\n",
    "    alpha = np.full(data.shape[1:], 255, dtype=rasterio.uint8)\n",
    "    \n",
    "    # Adjust the values in the alpha band based on the values in the raster data\n",
    "    # This is just an example, adjust it to suit your needs\n",
    "    alpha[data[0] < data[0].mean()] = 0\n",
    "    \n",
    "    # Add the alpha band to the raster data\n",
    "    data_with_alpha = np.concatenate((data, alpha[None, :, :]))\n",
    "    \n",
    "    # Define the new raster's profile\n",
    "    profile = src.profile\n",
    "    profile.update(count=src.count+1, dtype=rasterio.uint8)\n",
    "    \n",
    "    # Write the raster data with the new alpha band to a new raster file\n",
    "    with rasterio.open('output.tif', 'w', **profile) as dst:\n",
    "        dst.write(data_with_alpha)"
   ],
   "metadata": {
    "collapsed": false,
    "ExecuteTime": {
     "end_time": "2024-09-14T20:27:46.911209486Z",
     "start_time": "2024-09-14T20:27:18.270723381Z"
    }
   },
   "id": "79f6efdb9aebdb59"
  },
  {
   "cell_type": "code",
   "execution_count": 19,
   "outputs": [],
   "source": [
    "src2015 = rasterio.open('dataset/trees-density/TCD_2015_020m_03035_d05.tif')\n",
    "src2012 = rasterio.open('dataset/trees-density/TCD_2012_020m_03035_d03.tif')\n",
    "data = src.read()"
   ],
   "metadata": {
    "collapsed": false,
    "ExecuteTime": {
     "end_time": "2024-09-15T09:20:43.919281146Z",
     "start_time": "2024-09-15T09:20:43.531607768Z"
    }
   },
   "id": "550445bc372824d8"
  },
  {
   "cell_type": "code",
   "execution_count": 20,
   "outputs": [],
   "source": [
    "from rasterio.plot import show\n",
    "import matplotlib.pyplot as plt\n",
    "%matplotlib tk\n",
    "window = rasterio.windows.Window(100*100, 50*100, 4000, 4000)\n",
    "\n",
    "# Read a subset of the raster data\n",
    "subset1 = src2012.read(window=window)\n",
    "subset2 = src2015.read(window=window)\n",
    "\n",
    "# Plot the subset of the raster data\n",
    "plt.figure(figsize=(6,6))\n",
    "plt.subplot(1, 2, 1)\n",
    "show(subset1)\n",
    "plt.title('2012')\n",
    "plt.subplot(1, 2, 2)\n",
    "show(subset2)\n",
    "plt.show()"
   ],
   "metadata": {
    "collapsed": false,
    "ExecuteTime": {
     "end_time": "2024-09-15T09:20:46.736180494Z",
     "start_time": "2024-09-15T09:20:45.287627804Z"
    }
   },
   "id": "aeae26891b33b8d0"
  },
  {
   "cell_type": "code",
   "execution_count": 2,
   "outputs": [],
   "source": [
    "import rasterio\n",
    "import numpy as np\n",
    "\n",
    "names = [\n",
    "    (\"dataset/trees-density/TCD_2012_020m_03035_d03.tif\",\"2012\"),\n",
    "     (\"dataset/trees-density/TCD_2015_020m_03035_d05.tif\",\"2015\"),\n",
    "      (\"dataset/trees-density/TCD_2018_010m_03035_V2_0.tif\", \"2018\")\n",
    "]"
   ],
   "metadata": {
    "collapsed": false,
    "ExecuteTime": {
     "end_time": "2024-09-15T08:52:37.904124647Z",
     "start_time": "2024-09-15T08:52:37.900757130Z"
    }
   },
   "id": "cf9c83c654ecc90b"
  },
  {
   "cell_type": "code",
   "execution_count": 2,
   "outputs": [],
   "source": [
    "\n",
    "\n",
    "# Open the raster file\n",
    "with rasterio.open('dataset/trees-density/TCD_2012_020m_03035_d03.tif') as src:\n",
    "    # Read the raster data\n",
    "    data = src.read()\n",
    "\n",
    "    # Create an alpha band\n",
    "    alpha = np.full(data.shape[1:], 255, dtype=rasterio.uint8)\n",
    "\n",
    "    # Adjust the values in the alpha band based on the values in the raster data\n",
    "    # Pixels with higher values will be less transparent\n",
    "    alpha[data[0] < data[0].mean()] = 0\n",
    "\n",
    "    # Add the alpha band to the raster data\n",
    "    data_with_alpha = np.concatenate((data, alpha[None, :, :]))\n",
    "\n",
    "    # Define the new raster's profile\n",
    "    profile = src.profile\n",
    "    profile.update(count=src.count+1, dtype=rasterio.uint8)\n",
    "\n",
    "    # Write the raster data with the new alpha band to a new raster file\n",
    "    with rasterio.open('transparent_treese2012.tif', 'w', **profile) as dst:\n",
    "        dst.write(data_with_alpha)"
   ],
   "metadata": {
    "collapsed": false,
    "ExecuteTime": {
     "end_time": "2024-09-15T08:40:28.447409139Z",
     "start_time": "2024-09-15T08:40:20.403352340Z"
    }
   },
   "id": "8f7b26f21971aa5"
  },
  {
   "cell_type": "code",
   "execution_count": 5,
   "outputs": [
    {
     "name": "stdout",
     "output_type": "stream",
     "text": [
      "Writen 2012 into transparent_treese2012.tif\n",
      "Writen 2015 into transparent_treese2015.tif\n",
      "Writen 2018 into transparent_treese2018.tif\n"
     ]
    }
   ],
   "source": [
    "for name, yr in names:\n",
    "    \n",
    "    with rasterio.open(name) as src:\n",
    "        # Read the raster data\n",
    "        data = src.read()    \n",
    "        # # Create an alpha band\n",
    "        # alpha = np.full(data.shape[1:], 255, dtype=rasterio.uint8)\n",
    "        # \n",
    "        # # Adjust the values in the alpha band based on the values in the raster data\n",
    "        # # Pixels with higher values will be less transparent\n",
    "        # alpha[data[0] < data[0].mean()] = 0\n",
    "        # \n",
    "        # # Add the alpha band to the raster data\n",
    "        # data_with_alpha = np.concatenate((data, alpha[None, :, :]))\n",
    "        # \n",
    "        # # Define the new raster's profile\n",
    "        # profile = src.profile\n",
    "        # profile.update(count=src.count + 1, dtype=rasterio.uint8)\n",
    "        # \n",
    "        # # Write the raster data with the new alpha band to a new raster file\n",
    "        with rasterio.open(f\"transparent_treese{yr}.tif\", 'w+', **src.profile) as dst:\n",
    "            print(f\"Writen {yr} into transparent_treese{yr}.tif\")\n",
    "            dst.write(data)\n",
    "        "
   ],
   "metadata": {
    "collapsed": false,
    "ExecuteTime": {
     "end_time": "2024-09-15T08:53:21.829766468Z",
     "start_time": "2024-09-15T08:52:57.093569060Z"
    }
   },
   "id": "6d86215df8dc6412"
  },
  {
   "cell_type": "code",
   "execution_count": 6,
   "outputs": [],
   "source": [
    "import rasterio\n",
    "from rasterio.enums import Resampling\n",
    "\n",
    "fnames = [\"transparent_treese2012.tif\", \"transparent_treese2015.tif\", \"transparent_treese2018.tif\"]\n",
    "for fname in fnames:\n",
    "    with rasterio.open(fname, 'r+') as src:\n",
    "        # Define the overview levels\n",
    "        overviews = [2, 4, 8, 16, 32]\n",
    "                                     \n",
    "        # Generate overviews\n",
    "        src.build_overviews(overviews, Resampling.nearest)\n",
    "    \n",
    "        # Update the dataset's metadata to include the overviews\n",
    "        src.update_tags(ns='rio_overview', resampling='nearest')"
   ],
   "metadata": {
    "collapsed": false,
    "ExecuteTime": {
     "end_time": "2024-09-15T08:53:36.928577400Z",
     "start_time": "2024-09-15T08:53:25.427906413Z"
    }
   },
   "id": "43686e58d21aa7db"
  }
 ],
 "metadata": {
  "kernelspec": {
   "display_name": "Python 3",
   "language": "python",
   "name": "python3"
  },
  "language_info": {
   "codemirror_mode": {
    "name": "ipython",
    "version": 2
   },
   "file_extension": ".py",
   "mimetype": "text/x-python",
   "name": "python",
   "nbconvert_exporter": "python",
   "pygments_lexer": "ipython2",
   "version": "2.7.6"
  }
 },
 "nbformat": 4,
 "nbformat_minor": 5
}
