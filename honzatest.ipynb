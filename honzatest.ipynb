{
 "cells": [
  {
   "cell_type": "code",
   "execution_count": 2,
   "id": "initial_id",
   "metadata": {
    "collapsed": true,
    "ExecuteTime": {
     "end_time": "2024-09-15T10:33:55.837526497Z",
     "start_time": "2024-09-15T10:33:42.608804202Z"
    }
   },
   "outputs": [],
   "source": [
    "import src.potential_coverage_area as pca\n",
    "ret = pca.get_avail_tree_area(\"/home/basta/shp/ku/epsg-5514/721981/721981\")"
   ]
  },
  {
   "cell_type": "code",
   "execution_count": 28,
   "outputs": [
    {
     "data": {
      "text/plain": "        ID       ID_2 TYPPPD_KOD KATUZE_KOD OBEC_KOD  \\\n2316  2317  606269405    9100301     721981   554791   \n\n                                               geometry  \n2316  POLYGON ((-820177.29 -1071461.56, -820215.9500...  ",
      "text/html": "<div>\n<style scoped>\n    .dataframe tbody tr th:only-of-type {\n        vertical-align: middle;\n    }\n\n    .dataframe tbody tr th {\n        vertical-align: top;\n    }\n\n    .dataframe thead th {\n        text-align: right;\n    }\n</style>\n<table border=\"1\" class=\"dataframe\">\n  <thead>\n    <tr style=\"text-align: right;\">\n      <th></th>\n      <th>ID</th>\n      <th>ID_2</th>\n      <th>TYPPPD_KOD</th>\n      <th>KATUZE_KOD</th>\n      <th>OBEC_KOD</th>\n      <th>geometry</th>\n    </tr>\n  </thead>\n  <tbody>\n    <tr>\n      <th>2316</th>\n      <td>2317</td>\n      <td>606269405</td>\n      <td>9100301</td>\n      <td>721981</td>\n      <td>554791</td>\n      <td>POLYGON ((-820177.29 -1071461.56, -820215.9500...</td>\n    </tr>\n  </tbody>\n</table>\n</div>"
     },
     "execution_count": 28,
     "metadata": {},
     "output_type": "execute_result"
    }
   ],
   "source": [],
   "metadata": {
    "collapsed": false,
    "ExecuteTime": {
     "end_time": "2024-09-15T10:40:26.175746969Z",
     "start_time": "2024-09-15T10:40:26.169475263Z"
    }
   },
   "id": "f12a440fbd25e6b3"
  },
  {
   "cell_type": "code",
   "execution_count": 42,
   "outputs": [
    {
     "data": {
      "text/plain": "'2317'"
     },
     "execution_count": 42,
     "metadata": {},
     "output_type": "execute_result"
    }
   ],
   "source": [
    "import geopandas as gpd\n",
    "gdf = gpd.GeoDataFrame(ret[5].to_frame().T, geometry=\"geometry\")\n",
    "gdf.set_crs(epsg=5514, inplace=True)\n",
    "gdf[\"ID\"].iloc[0]"
   ],
   "metadata": {
    "collapsed": false,
    "ExecuteTime": {
     "end_time": "2024-09-15T10:50:18.202231051Z",
     "start_time": "2024-09-15T10:50:18.198096692Z"
    }
   },
   "id": "e48c9192a7356cd3"
  }
 ],
 "metadata": {
  "kernelspec": {
   "display_name": "Python 3",
   "language": "python",
   "name": "python3"
  },
  "language_info": {
   "codemirror_mode": {
    "name": "ipython",
    "version": 2
   },
   "file_extension": ".py",
   "mimetype": "text/x-python",
   "name": "python",
   "nbconvert_exporter": "python",
   "pygments_lexer": "ipython2",
   "version": "2.7.6"
  }
 },
 "nbformat": 4,
 "nbformat_minor": 5
}
