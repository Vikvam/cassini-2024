{
 "cells": [
  {
   "cell_type": "code",
   "execution_count": 39,
   "id": "initial_id",
   "metadata": {
    "collapsed": true,
    "ExecuteTime": {
     "end_time": "2024-09-14T23:29:26.349493449Z",
     "start_time": "2024-09-14T23:29:25.257907791Z"
    }
   },
   "outputs": [
    {
     "data": {
      "text/plain": "<IPython.core.display.HTML object>",
      "text/html": "\n            <style>\n                .geemap-dark {\n                    --jp-widgets-color: white;\n                    --jp-widgets-label-color: white;\n                    --jp-ui-font-color1: white;\n                    --jp-layout-color2: #454545;\n                    background-color: #383838;\n                }\n\n                .geemap-dark .jupyter-button {\n                    --jp-layout-color3: #383838;\n                }\n\n                .geemap-colab {\n                    background-color: var(--colab-primary-surface-color, white);\n                }\n\n                .geemap-colab .jupyter-button {\n                    --jp-layout-color3: var(--colab-primary-surface-color, white);\n                }\n            </style>\n            "
     },
     "metadata": {},
     "output_type": "display_data"
    }
   ],
   "source": [
    "import ee\n",
    "import matplotlib.pyplot as plt\n",
    "import numpy as np\n",
    "from datetime import datetime\n",
    "import geemap\n",
    "\n",
    "try:\n",
    "    ee.Initialize()\n",
    "except Exception as e:\n",
    "    ee.Authenticate()\n",
    "    ee.Initialize()\n",
    "# Define your area of interest (AOI)\n",
    "\n",
    "# Define the start and end years\n",
    "start_year = 2010\n",
    "end_year = datetime.now().year\n",
    "\n",
    "# Load Landsat 8 Surface Reflectance collection\n",
    "prague = ee.Geometry.Point(14.4378, 50.0755).buffer(1000)\n",
    "collection = ee.ImageCollection('COPERNICUS/S2_SR_HARMONIZED') \\\n",
    "    .filterBounds(prague) \\\n",
    "    .filter(ee.Filter.lt('CLOUDY_PIXEL_PERCENTAGE', 20))\n",
    "\n",
    "# Function to calculate NDVI\n",
    "def add_ndvi(image):\n",
    "    ndvi = image.normalizedDifference(['B8', 'B4']).rename('NDVI')\n",
    "    return image.addBands(ndvi)\n",
    "\n",
    "# Function to extract July imagery for a given year\n",
    "def get_july_imagery(year):\n",
    "    start_date = ee.Date.fromYMD(year, 7, 1)\n",
    "    end_date = ee.Date.fromYMD(year, 7, 31)\n",
    "    \n",
    "    return collection.filterDate(start_date, end_date) \\\n",
    "        .map(add_ndvi) \\\n",
    "        .select('NDVI') \\\n",
    "        .mean() \\\n",
    "        .set('year', year)\n",
    "\n",
    "# Create a list of years\n",
    "years = ee.List.sequence(start_year, end_year)\n",
    "\n",
    "# Map over the years to get July NDVI for each year\n",
    "july_ndvi_collection = ee.ImageCollection.fromImages(\n",
    "    years.map(lambda year: get_july_imagery(year))\n",
    ")\n",
    "\n",
    "\n"
   ]
  },
  {
   "cell_type": "code",
   "execution_count": 40,
   "outputs": [
    {
     "data": {
      "text/plain": "<IPython.core.display.HTML object>",
      "text/html": "\n            <style>\n                .geemap-dark {\n                    --jp-widgets-color: white;\n                    --jp-widgets-label-color: white;\n                    --jp-ui-font-color1: white;\n                    --jp-layout-color2: #454545;\n                    background-color: #383838;\n                }\n\n                .geemap-dark .jupyter-button {\n                    --jp-layout-color3: #383838;\n                }\n\n                .geemap-colab {\n                    background-color: var(--colab-primary-surface-color, white);\n                }\n\n                .geemap-colab .jupyter-button {\n                    --jp-layout-color3: var(--colab-primary-surface-color, white);\n                }\n            </style>\n            "
     },
     "metadata": {},
     "output_type": "display_data"
    },
    {
     "data": {
      "text/plain": "<ee.imagecollection.ImageCollection at 0x7fb81e84bd00>",
      "text/html": "<div><style>:root {\n  --font-color-primary: var(--jp-content-font-color0, rgba(0, 0, 0, 1));\n  --font-color-secondary: var(--jp-content-font-color2, rgba(0, 0, 0, 0.6));\n  --font-color-accent: rgba(123, 31, 162, 1);\n  --border-color: var(--jp-border-color2, #e0e0e0);\n  --background-color: var(--jp-layout-color0, white);\n  --background-color-row-even: var(--jp-layout-color1, white);\n  --background-color-row-odd: var(--jp-layout-color2, #eeeeee);\n}\n\nhtml[theme=\"dark\"],\nbody[data-theme=\"dark\"],\nbody.vscode-dark {\n  --font-color-primary: rgba(255, 255, 255, 1);\n  --font-color-secondary: rgba(255, 255, 255, 0.6);\n  --font-color-accent: rgb(173, 132, 190);\n  --border-color: #2e2e2e;\n  --background-color: #111111;\n  --background-color-row-even: #111111;\n  --background-color-row-odd: #313131;\n}\n\n.ee {\n  padding: 1em;\n  line-height: 1.5em;\n  min-width: 300px;\n  max-width: 1200px;\n  overflow-y: scroll;\n  max-height: 600px;\n  border: 1px solid var(--border-color);\n  font-family: monospace;\n}\n\n.ee li {\n  list-style-type: none;\n}\n\n.ee ul {\n  padding-left: 1.5em !important;\n  margin: 0;\n}\n\n.ee > ul {\n  padding-left: 0 !important;\n}\n\n.ee-open,\n.ee-shut {\n  color: var(--font-color-secondary);\n  cursor: pointer;\n  margin: 0;\n}\n\n.ee-open:hover,\n.ee-shut:hover {\n  color: var(--font-color-primary);\n}\n\n.ee-k {\n  color: var(--font-color-accent);\n  margin-right: 6px;\n}\n\n.ee-v {\n  color: var(--font-color-primary);\n}\n\n.ee-toggle {\n  display: none;\n}\n\n.ee-shut + ul {\n  display: none;\n}\n\n.ee-open + ul {\n  display: block;\n}\n\n.ee-shut::before {\n  display: inline-block;\n  content: \"▼\";\n  margin-right: 6px;\n  transform: rotate(-90deg);\n  transition: transform 0.2s;\n}\n\n.ee-open::before {\n  transform: rotate(0deg);\n  display: inline-block;\n  content: \"▼\";\n  margin-right: 6px;\n  transition: transform 0.2s;\n}\n</style><div class='ee'><ul><li><label class='ee-shut'>ImageCollection (15 elements)<input type='checkbox' class='ee-toggle'></label><ul><li><span class='ee-k'>type:</span><span class='ee-v'>ImageCollection</span></li><li><label class='ee-shut'>bands: []<input type='checkbox' class='ee-toggle'></label><ul></ul></li><li><label class='ee-shut'>features: List (15 elements)<input type='checkbox' class='ee-toggle'></label><ul><li><label class='ee-shut'>0: Image (0 bands)<input type='checkbox' class='ee-toggle'></label><ul><li><span class='ee-k'>type:</span><span class='ee-v'>Image</span></li><li><label class='ee-shut'>bands: []<input type='checkbox' class='ee-toggle'></label><ul></ul></li><li><label class='ee-shut'>properties: Object (2 properties)<input type='checkbox' class='ee-toggle'></label><ul><li><span class='ee-k'>system:index:</span><span class='ee-v'>0</span></li><li><span class='ee-k'>year:</span><span class='ee-v'>2010</span></li></ul></li></ul></li><li><label class='ee-shut'>1: Image (0 bands)<input type='checkbox' class='ee-toggle'></label><ul><li><span class='ee-k'>type:</span><span class='ee-v'>Image</span></li><li><label class='ee-shut'>bands: []<input type='checkbox' class='ee-toggle'></label><ul></ul></li><li><label class='ee-shut'>properties: Object (2 properties)<input type='checkbox' class='ee-toggle'></label><ul><li><span class='ee-k'>system:index:</span><span class='ee-v'>1</span></li><li><span class='ee-k'>year:</span><span class='ee-v'>2011</span></li></ul></li></ul></li><li><label class='ee-shut'>2: Image (0 bands)<input type='checkbox' class='ee-toggle'></label><ul><li><span class='ee-k'>type:</span><span class='ee-v'>Image</span></li><li><label class='ee-shut'>bands: []<input type='checkbox' class='ee-toggle'></label><ul></ul></li><li><label class='ee-shut'>properties: Object (2 properties)<input type='checkbox' class='ee-toggle'></label><ul><li><span class='ee-k'>system:index:</span><span class='ee-v'>2</span></li><li><span class='ee-k'>year:</span><span class='ee-v'>2012</span></li></ul></li></ul></li><li><label class='ee-shut'>3: Image (0 bands)<input type='checkbox' class='ee-toggle'></label><ul><li><span class='ee-k'>type:</span><span class='ee-v'>Image</span></li><li><label class='ee-shut'>bands: []<input type='checkbox' class='ee-toggle'></label><ul></ul></li><li><label class='ee-shut'>properties: Object (2 properties)<input type='checkbox' class='ee-toggle'></label><ul><li><span class='ee-k'>system:index:</span><span class='ee-v'>3</span></li><li><span class='ee-k'>year:</span><span class='ee-v'>2013</span></li></ul></li></ul></li><li><label class='ee-shut'>4: Image (0 bands)<input type='checkbox' class='ee-toggle'></label><ul><li><span class='ee-k'>type:</span><span class='ee-v'>Image</span></li><li><label class='ee-shut'>bands: []<input type='checkbox' class='ee-toggle'></label><ul></ul></li><li><label class='ee-shut'>properties: Object (2 properties)<input type='checkbox' class='ee-toggle'></label><ul><li><span class='ee-k'>system:index:</span><span class='ee-v'>4</span></li><li><span class='ee-k'>year:</span><span class='ee-v'>2014</span></li></ul></li></ul></li><li><label class='ee-shut'>5: Image (0 bands)<input type='checkbox' class='ee-toggle'></label><ul><li><span class='ee-k'>type:</span><span class='ee-v'>Image</span></li><li><label class='ee-shut'>bands: []<input type='checkbox' class='ee-toggle'></label><ul></ul></li><li><label class='ee-shut'>properties: Object (2 properties)<input type='checkbox' class='ee-toggle'></label><ul><li><span class='ee-k'>system:index:</span><span class='ee-v'>5</span></li><li><span class='ee-k'>year:</span><span class='ee-v'>2015</span></li></ul></li></ul></li><li><label class='ee-shut'>6: Image (0 bands)<input type='checkbox' class='ee-toggle'></label><ul><li><span class='ee-k'>type:</span><span class='ee-v'>Image</span></li><li><label class='ee-shut'>bands: []<input type='checkbox' class='ee-toggle'></label><ul></ul></li><li><label class='ee-shut'>properties: Object (2 properties)<input type='checkbox' class='ee-toggle'></label><ul><li><span class='ee-k'>system:index:</span><span class='ee-v'>6</span></li><li><span class='ee-k'>year:</span><span class='ee-v'>2016</span></li></ul></li></ul></li><li><label class='ee-shut'>7: Image (0 bands)<input type='checkbox' class='ee-toggle'></label><ul><li><span class='ee-k'>type:</span><span class='ee-v'>Image</span></li><li><label class='ee-shut'>bands: []<input type='checkbox' class='ee-toggle'></label><ul></ul></li><li><label class='ee-shut'>properties: Object (2 properties)<input type='checkbox' class='ee-toggle'></label><ul><li><span class='ee-k'>system:index:</span><span class='ee-v'>7</span></li><li><span class='ee-k'>year:</span><span class='ee-v'>2017</span></li></ul></li></ul></li><li><label class='ee-shut'>8: Image (1 band)<input type='checkbox' class='ee-toggle'></label><ul><li><span class='ee-k'>type:</span><span class='ee-v'>Image</span></li><li><label class='ee-shut'>bands: List (1 element)<input type='checkbox' class='ee-toggle'></label><ul><li><label class='ee-shut'>0: \"NDVI\", float, EPSG:4326<input type='checkbox' class='ee-toggle'></label><ul><li><span class='ee-k'>id:</span><span class='ee-v'>NDVI</span></li><li><span class='ee-k'>crs:</span><span class='ee-v'>EPSG:4326</span></li><li><label class='ee-shut'>crs_transform: [1, 0, 0, 0, 1, 0]<input type='checkbox' class='ee-toggle'></label><ul><li><span class='ee-k'>0:</span><span class='ee-v'>1</span></li><li><span class='ee-k'>1:</span><span class='ee-v'>0</span></li><li><span class='ee-k'>2:</span><span class='ee-v'>0</span></li><li><span class='ee-k'>3:</span><span class='ee-v'>0</span></li><li><span class='ee-k'>4:</span><span class='ee-v'>1</span></li><li><span class='ee-k'>5:</span><span class='ee-v'>0</span></li></ul></li><li><label class='ee-shut'>data_type: float<input type='checkbox' class='ee-toggle'></label><ul><li><span class='ee-k'>type:</span><span class='ee-v'>PixelType</span></li><li><span class='ee-k'>max:</span><span class='ee-v'>1</span></li><li><span class='ee-k'>min:</span><span class='ee-v'>-1</span></li><li><span class='ee-k'>precision:</span><span class='ee-v'>float</span></li></ul></li></ul></li></ul></li><li><label class='ee-shut'>properties: Object (2 properties)<input type='checkbox' class='ee-toggle'></label><ul><li><span class='ee-k'>system:index:</span><span class='ee-v'>8</span></li><li><span class='ee-k'>year:</span><span class='ee-v'>2018</span></li></ul></li></ul></li><li><label class='ee-shut'>9: Image (1 band)<input type='checkbox' class='ee-toggle'></label><ul><li><span class='ee-k'>type:</span><span class='ee-v'>Image</span></li><li><label class='ee-shut'>bands: List (1 element)<input type='checkbox' class='ee-toggle'></label><ul><li><label class='ee-shut'>0: \"NDVI\", float, EPSG:4326<input type='checkbox' class='ee-toggle'></label><ul><li><span class='ee-k'>id:</span><span class='ee-v'>NDVI</span></li><li><span class='ee-k'>crs:</span><span class='ee-v'>EPSG:4326</span></li><li><label class='ee-shut'>crs_transform: [1, 0, 0, 0, 1, 0]<input type='checkbox' class='ee-toggle'></label><ul><li><span class='ee-k'>0:</span><span class='ee-v'>1</span></li><li><span class='ee-k'>1:</span><span class='ee-v'>0</span></li><li><span class='ee-k'>2:</span><span class='ee-v'>0</span></li><li><span class='ee-k'>3:</span><span class='ee-v'>0</span></li><li><span class='ee-k'>4:</span><span class='ee-v'>1</span></li><li><span class='ee-k'>5:</span><span class='ee-v'>0</span></li></ul></li><li><label class='ee-shut'>data_type: float<input type='checkbox' class='ee-toggle'></label><ul><li><span class='ee-k'>type:</span><span class='ee-v'>PixelType</span></li><li><span class='ee-k'>max:</span><span class='ee-v'>1</span></li><li><span class='ee-k'>min:</span><span class='ee-v'>-1</span></li><li><span class='ee-k'>precision:</span><span class='ee-v'>float</span></li></ul></li></ul></li></ul></li><li><label class='ee-shut'>properties: Object (2 properties)<input type='checkbox' class='ee-toggle'></label><ul><li><span class='ee-k'>system:index:</span><span class='ee-v'>9</span></li><li><span class='ee-k'>year:</span><span class='ee-v'>2019</span></li></ul></li></ul></li><li><label class='ee-shut'>10: Image (1 band)<input type='checkbox' class='ee-toggle'></label><ul><li><span class='ee-k'>type:</span><span class='ee-v'>Image</span></li><li><label class='ee-shut'>bands: List (1 element)<input type='checkbox' class='ee-toggle'></label><ul><li><label class='ee-shut'>0: \"NDVI\", float, EPSG:4326<input type='checkbox' class='ee-toggle'></label><ul><li><span class='ee-k'>id:</span><span class='ee-v'>NDVI</span></li><li><span class='ee-k'>crs:</span><span class='ee-v'>EPSG:4326</span></li><li><label class='ee-shut'>crs_transform: [1, 0, 0, 0, 1, 0]<input type='checkbox' class='ee-toggle'></label><ul><li><span class='ee-k'>0:</span><span class='ee-v'>1</span></li><li><span class='ee-k'>1:</span><span class='ee-v'>0</span></li><li><span class='ee-k'>2:</span><span class='ee-v'>0</span></li><li><span class='ee-k'>3:</span><span class='ee-v'>0</span></li><li><span class='ee-k'>4:</span><span class='ee-v'>1</span></li><li><span class='ee-k'>5:</span><span class='ee-v'>0</span></li></ul></li><li><label class='ee-shut'>data_type: float<input type='checkbox' class='ee-toggle'></label><ul><li><span class='ee-k'>type:</span><span class='ee-v'>PixelType</span></li><li><span class='ee-k'>max:</span><span class='ee-v'>1</span></li><li><span class='ee-k'>min:</span><span class='ee-v'>-1</span></li><li><span class='ee-k'>precision:</span><span class='ee-v'>float</span></li></ul></li></ul></li></ul></li><li><label class='ee-shut'>properties: Object (2 properties)<input type='checkbox' class='ee-toggle'></label><ul><li><span class='ee-k'>system:index:</span><span class='ee-v'>10</span></li><li><span class='ee-k'>year:</span><span class='ee-v'>2020</span></li></ul></li></ul></li><li><label class='ee-shut'>11: Image (1 band)<input type='checkbox' class='ee-toggle'></label><ul><li><span class='ee-k'>type:</span><span class='ee-v'>Image</span></li><li><label class='ee-shut'>bands: List (1 element)<input type='checkbox' class='ee-toggle'></label><ul><li><label class='ee-shut'>0: \"NDVI\", float, EPSG:4326<input type='checkbox' class='ee-toggle'></label><ul><li><span class='ee-k'>id:</span><span class='ee-v'>NDVI</span></li><li><span class='ee-k'>crs:</span><span class='ee-v'>EPSG:4326</span></li><li><label class='ee-shut'>crs_transform: [1, 0, 0, 0, 1, 0]<input type='checkbox' class='ee-toggle'></label><ul><li><span class='ee-k'>0:</span><span class='ee-v'>1</span></li><li><span class='ee-k'>1:</span><span class='ee-v'>0</span></li><li><span class='ee-k'>2:</span><span class='ee-v'>0</span></li><li><span class='ee-k'>3:</span><span class='ee-v'>0</span></li><li><span class='ee-k'>4:</span><span class='ee-v'>1</span></li><li><span class='ee-k'>5:</span><span class='ee-v'>0</span></li></ul></li><li><label class='ee-shut'>data_type: float<input type='checkbox' class='ee-toggle'></label><ul><li><span class='ee-k'>type:</span><span class='ee-v'>PixelType</span></li><li><span class='ee-k'>max:</span><span class='ee-v'>1</span></li><li><span class='ee-k'>min:</span><span class='ee-v'>-1</span></li><li><span class='ee-k'>precision:</span><span class='ee-v'>float</span></li></ul></li></ul></li></ul></li><li><label class='ee-shut'>properties: Object (2 properties)<input type='checkbox' class='ee-toggle'></label><ul><li><span class='ee-k'>system:index:</span><span class='ee-v'>11</span></li><li><span class='ee-k'>year:</span><span class='ee-v'>2021</span></li></ul></li></ul></li><li><label class='ee-shut'>12: Image (1 band)<input type='checkbox' class='ee-toggle'></label><ul><li><span class='ee-k'>type:</span><span class='ee-v'>Image</span></li><li><label class='ee-shut'>bands: List (1 element)<input type='checkbox' class='ee-toggle'></label><ul><li><label class='ee-shut'>0: \"NDVI\", float, EPSG:4326<input type='checkbox' class='ee-toggle'></label><ul><li><span class='ee-k'>id:</span><span class='ee-v'>NDVI</span></li><li><span class='ee-k'>crs:</span><span class='ee-v'>EPSG:4326</span></li><li><label class='ee-shut'>crs_transform: [1, 0, 0, 0, 1, 0]<input type='checkbox' class='ee-toggle'></label><ul><li><span class='ee-k'>0:</span><span class='ee-v'>1</span></li><li><span class='ee-k'>1:</span><span class='ee-v'>0</span></li><li><span class='ee-k'>2:</span><span class='ee-v'>0</span></li><li><span class='ee-k'>3:</span><span class='ee-v'>0</span></li><li><span class='ee-k'>4:</span><span class='ee-v'>1</span></li><li><span class='ee-k'>5:</span><span class='ee-v'>0</span></li></ul></li><li><label class='ee-shut'>data_type: float<input type='checkbox' class='ee-toggle'></label><ul><li><span class='ee-k'>type:</span><span class='ee-v'>PixelType</span></li><li><span class='ee-k'>max:</span><span class='ee-v'>1</span></li><li><span class='ee-k'>min:</span><span class='ee-v'>-1</span></li><li><span class='ee-k'>precision:</span><span class='ee-v'>float</span></li></ul></li></ul></li></ul></li><li><label class='ee-shut'>properties: Object (2 properties)<input type='checkbox' class='ee-toggle'></label><ul><li><span class='ee-k'>system:index:</span><span class='ee-v'>12</span></li><li><span class='ee-k'>year:</span><span class='ee-v'>2022</span></li></ul></li></ul></li><li><label class='ee-shut'>13: Image (1 band)<input type='checkbox' class='ee-toggle'></label><ul><li><span class='ee-k'>type:</span><span class='ee-v'>Image</span></li><li><label class='ee-shut'>bands: List (1 element)<input type='checkbox' class='ee-toggle'></label><ul><li><label class='ee-shut'>0: \"NDVI\", float, EPSG:4326<input type='checkbox' class='ee-toggle'></label><ul><li><span class='ee-k'>id:</span><span class='ee-v'>NDVI</span></li><li><span class='ee-k'>crs:</span><span class='ee-v'>EPSG:4326</span></li><li><label class='ee-shut'>crs_transform: [1, 0, 0, 0, 1, 0]<input type='checkbox' class='ee-toggle'></label><ul><li><span class='ee-k'>0:</span><span class='ee-v'>1</span></li><li><span class='ee-k'>1:</span><span class='ee-v'>0</span></li><li><span class='ee-k'>2:</span><span class='ee-v'>0</span></li><li><span class='ee-k'>3:</span><span class='ee-v'>0</span></li><li><span class='ee-k'>4:</span><span class='ee-v'>1</span></li><li><span class='ee-k'>5:</span><span class='ee-v'>0</span></li></ul></li><li><label class='ee-shut'>data_type: float<input type='checkbox' class='ee-toggle'></label><ul><li><span class='ee-k'>type:</span><span class='ee-v'>PixelType</span></li><li><span class='ee-k'>max:</span><span class='ee-v'>1</span></li><li><span class='ee-k'>min:</span><span class='ee-v'>-1</span></li><li><span class='ee-k'>precision:</span><span class='ee-v'>float</span></li></ul></li></ul></li></ul></li><li><label class='ee-shut'>properties: Object (2 properties)<input type='checkbox' class='ee-toggle'></label><ul><li><span class='ee-k'>system:index:</span><span class='ee-v'>13</span></li><li><span class='ee-k'>year:</span><span class='ee-v'>2023</span></li></ul></li></ul></li><li><label class='ee-shut'>14: Image (1 band)<input type='checkbox' class='ee-toggle'></label><ul><li><span class='ee-k'>type:</span><span class='ee-v'>Image</span></li><li><label class='ee-shut'>bands: List (1 element)<input type='checkbox' class='ee-toggle'></label><ul><li><label class='ee-shut'>0: \"NDVI\", float, EPSG:4326<input type='checkbox' class='ee-toggle'></label><ul><li><span class='ee-k'>id:</span><span class='ee-v'>NDVI</span></li><li><span class='ee-k'>crs:</span><span class='ee-v'>EPSG:4326</span></li><li><label class='ee-shut'>crs_transform: [1, 0, 0, 0, 1, 0]<input type='checkbox' class='ee-toggle'></label><ul><li><span class='ee-k'>0:</span><span class='ee-v'>1</span></li><li><span class='ee-k'>1:</span><span class='ee-v'>0</span></li><li><span class='ee-k'>2:</span><span class='ee-v'>0</span></li><li><span class='ee-k'>3:</span><span class='ee-v'>0</span></li><li><span class='ee-k'>4:</span><span class='ee-v'>1</span></li><li><span class='ee-k'>5:</span><span class='ee-v'>0</span></li></ul></li><li><label class='ee-shut'>data_type: float<input type='checkbox' class='ee-toggle'></label><ul><li><span class='ee-k'>type:</span><span class='ee-v'>PixelType</span></li><li><span class='ee-k'>max:</span><span class='ee-v'>1</span></li><li><span class='ee-k'>min:</span><span class='ee-v'>-1</span></li><li><span class='ee-k'>precision:</span><span class='ee-v'>float</span></li></ul></li></ul></li></ul></li><li><label class='ee-shut'>properties: Object (2 properties)<input type='checkbox' class='ee-toggle'></label><ul><li><span class='ee-k'>system:index:</span><span class='ee-v'>14</span></li><li><span class='ee-k'>year:</span><span class='ee-v'>2024</span></li></ul></li></ul></li></ul></li></ul></li></ul></div><script>function toggleHeader() {\n    const parent = this.parentElement;\n    parent.className = parent.className === \"ee-open\" ? \"ee-shut\" : \"ee-open\";\n}\n\nfor (let c of document.getElementsByClassName(\"ee-toggle\")) {\n    c.onclick = toggleHeader;\n}</script></div>"
     },
     "execution_count": 40,
     "metadata": {},
     "output_type": "execute_result"
    }
   ],
   "source": [
    "july_ndvi_collection"
   ],
   "metadata": {
    "collapsed": false,
    "ExecuteTime": {
     "end_time": "2024-09-14T23:29:26.986069092Z",
     "start_time": "2024-09-14T23:29:26.462922468Z"
    }
   },
   "id": "bcf2570f10a65b9b"
  },
  {
   "cell_type": "code",
   "execution_count": null,
   "outputs": [],
   "source": [
    "def get_historical_nvdi(collection: ee.ImageCollection):\n",
    "    collection.getInfo()\n",
    "    images = []\n",
    "    for i in range(len(july_ndvi_collection.getInfo()[\"features\"])):\n",
    "        image_list = july_ndvi_collection.toList()\n",
    "          # Change this to your desired index\n",
    "        image =image_list.get(i)\n",
    "        \n",
    "        numpy_array = geemap.ee_to_numpy(\n",
    "            image,\n",
    "            region=prague,\n",
    "            scale=10 \n",
    "        )\n",
    "        images.append(numpy_array)  \n",
    "    \n",
    "    return numpy_array\n",
    "        \n",
    "images = get_historical_nvdi(july_ndvi_collection)\n"
   ],
   "metadata": {
    "collapsed": false,
    "ExecuteTime": {
     "start_time": "2024-09-14T23:29:40.156061910Z"
    }
   },
   "id": "1eb38199af4c14b7"
  },
  {
   "cell_type": "code",
   "execution_count": 33,
   "outputs": [],
   "source": [],
   "metadata": {
    "collapsed": false,
    "ExecuteTime": {
     "end_time": "2024-09-14T23:26:44.301835663Z",
     "start_time": "2024-09-14T23:26:44.299232204Z"
    }
   },
   "id": "7e52b41071036b95"
  },
  {
   "cell_type": "code",
   "execution_count": 28,
   "outputs": [
    {
     "data": {
      "text/plain": "<IPython.core.display.HTML object>",
      "text/html": "\n            <style>\n                .geemap-dark {\n                    --jp-widgets-color: white;\n                    --jp-widgets-label-color: white;\n                    --jp-ui-font-color1: white;\n                    --jp-layout-color2: #454545;\n                    background-color: #383838;\n                }\n\n                .geemap-dark .jupyter-button {\n                    --jp-layout-color3: #383838;\n                }\n\n                .geemap-colab {\n                    background-color: var(--colab-primary-surface-color, white);\n                }\n\n                .geemap-colab .jupyter-button {\n                    --jp-layout-color3: var(--colab-primary-surface-color, white);\n                }\n            </style>\n            "
     },
     "metadata": {},
     "output_type": "display_data"
    },
    {
     "data": {
      "text/plain": "<matplotlib.image.AxesImage at 0x7fb81bc9cd90>"
     },
     "execution_count": 28,
     "metadata": {},
     "output_type": "execute_result"
    }
   ],
   "source": [
    "%matplotlib tk\n",
    "plt.imshow(numpy_array, cmap='RdYlGn')"
   ],
   "metadata": {
    "collapsed": false,
    "ExecuteTime": {
     "end_time": "2024-09-14T23:20:52.695307727Z",
     "start_time": "2024-09-14T23:20:52.356400105Z"
    }
   },
   "id": "5437a5010016dc3d"
  },
  {
   "cell_type": "code",
   "execution_count": 12,
   "outputs": [
    {
     "data": {
      "text/plain": "<IPython.core.display.HTML object>",
      "text/html": "\n            <style>\n                .geemap-dark {\n                    --jp-widgets-color: white;\n                    --jp-widgets-label-color: white;\n                    --jp-ui-font-color1: white;\n                    --jp-layout-color2: #454545;\n                    background-color: #383838;\n                }\n\n                .geemap-dark .jupyter-button {\n                    --jp-layout-color3: #383838;\n                }\n\n                .geemap-colab {\n                    background-color: var(--colab-primary-surface-color, white);\n                }\n\n                .geemap-colab .jupyter-button {\n                    --jp-layout-color3: var(--colab-primary-surface-color, white);\n                }\n            </style>\n            "
     },
     "metadata": {},
     "output_type": "display_data"
    },
    {
     "ename": "Exception",
     "evalue": "An internal error has occurred (request: 6ff4ddcc-5d65-4acd-8ad7-5cf395adce8a)",
     "output_type": "error",
     "traceback": [
      "\u001B[0;31m---------------------------------------------------------------------------\u001B[0m",
      "\u001B[0;31mHttpError\u001B[0m                                 Traceback (most recent call last)",
      "File \u001B[0;32m~/.virtualenvs/aiaccesibility/lib/python3.10/site-packages/ee/data.py:406\u001B[0m, in \u001B[0;36m_execute_cloud_call\u001B[0;34m(call, num_retries)\u001B[0m\n\u001B[1;32m    405\u001B[0m \u001B[38;5;28;01mtry\u001B[39;00m:\n\u001B[0;32m--> 406\u001B[0m   \u001B[38;5;28;01mreturn\u001B[39;00m \u001B[43mcall\u001B[49m\u001B[38;5;241;43m.\u001B[39;49m\u001B[43mexecute\u001B[49m\u001B[43m(\u001B[49m\u001B[43mnum_retries\u001B[49m\u001B[38;5;241;43m=\u001B[39;49m\u001B[43mnum_retries\u001B[49m\u001B[43m)\u001B[49m\n\u001B[1;32m    407\u001B[0m \u001B[38;5;28;01mexcept\u001B[39;00m googleapiclient\u001B[38;5;241m.\u001B[39merrors\u001B[38;5;241m.\u001B[39mHttpError \u001B[38;5;28;01mas\u001B[39;00m e:\n",
      "File \u001B[0;32m~/.virtualenvs/aiaccesibility/lib/python3.10/site-packages/googleapiclient/_helpers.py:130\u001B[0m, in \u001B[0;36mpositional.<locals>.positional_decorator.<locals>.positional_wrapper\u001B[0;34m(*args, **kwargs)\u001B[0m\n\u001B[1;32m    129\u001B[0m         logger\u001B[38;5;241m.\u001B[39mwarning(message)\n\u001B[0;32m--> 130\u001B[0m \u001B[38;5;28;01mreturn\u001B[39;00m \u001B[43mwrapped\u001B[49m\u001B[43m(\u001B[49m\u001B[38;5;241;43m*\u001B[39;49m\u001B[43margs\u001B[49m\u001B[43m,\u001B[49m\u001B[43m \u001B[49m\u001B[38;5;241;43m*\u001B[39;49m\u001B[38;5;241;43m*\u001B[39;49m\u001B[43mkwargs\u001B[49m\u001B[43m)\u001B[49m\n",
      "File \u001B[0;32m~/.virtualenvs/aiaccesibility/lib/python3.10/site-packages/googleapiclient/http.py:938\u001B[0m, in \u001B[0;36mHttpRequest.execute\u001B[0;34m(self, http, num_retries)\u001B[0m\n\u001B[1;32m    937\u001B[0m \u001B[38;5;28;01mif\u001B[39;00m resp\u001B[38;5;241m.\u001B[39mstatus \u001B[38;5;241m>\u001B[39m\u001B[38;5;241m=\u001B[39m \u001B[38;5;241m300\u001B[39m:\n\u001B[0;32m--> 938\u001B[0m     \u001B[38;5;28;01mraise\u001B[39;00m HttpError(resp, content, uri\u001B[38;5;241m=\u001B[39m\u001B[38;5;28mself\u001B[39m\u001B[38;5;241m.\u001B[39muri)\n\u001B[1;32m    939\u001B[0m \u001B[38;5;28;01mreturn\u001B[39;00m \u001B[38;5;28mself\u001B[39m\u001B[38;5;241m.\u001B[39mpostproc(resp, content)\n",
      "\u001B[0;31mHttpError\u001B[0m: <HttpError 500 when requesting https://earthengine.googleapis.com/v1/projects/earthengine-legacy/image:computePixels? returned \"An internal error has occurred (request: 6ff4ddcc-5d65-4acd-8ad7-5cf395adce8a)\". Details: \"An internal error has occurred (request: 6ff4ddcc-5d65-4acd-8ad7-5cf395adce8a)\">",
      "\nDuring handling of the above exception, another exception occurred:\n",
      "\u001B[0;31mEEException\u001B[0m                               Traceback (most recent call last)",
      "File \u001B[0;32m~/.virtualenvs/aiaccesibility/lib/python3.10/site-packages/geemap/common.py:3412\u001B[0m, in \u001B[0;36mee_to_numpy\u001B[0;34m(ee_object, region, scale, bands, **kwargs)\u001B[0m\n\u001B[1;32m   3411\u001B[0m \u001B[38;5;28;01mtry\u001B[39;00m:\n\u001B[0;32m-> 3412\u001B[0m     struct_array \u001B[38;5;241m=\u001B[39m \u001B[43mee\u001B[49m\u001B[38;5;241;43m.\u001B[39;49m\u001B[43mdata\u001B[49m\u001B[38;5;241;43m.\u001B[39;49m\u001B[43mcomputePixels\u001B[49m\u001B[43m(\u001B[49m\u001B[43mkwargs\u001B[49m\u001B[43m)\u001B[49m\n\u001B[1;32m   3413\u001B[0m     array \u001B[38;5;241m=\u001B[39m np\u001B[38;5;241m.\u001B[39mdstack(([struct_array[band] \u001B[38;5;28;01mfor\u001B[39;00m band \u001B[38;5;129;01min\u001B[39;00m struct_array\u001B[38;5;241m.\u001B[39mdtype\u001B[38;5;241m.\u001B[39mnames]))\n",
      "File \u001B[0;32m~/.virtualenvs/aiaccesibility/lib/python3.10/site-packages/ee/data.py:952\u001B[0m, in \u001B[0;36mcomputePixels\u001B[0;34m(params)\u001B[0m\n\u001B[1;32m    951\u001B[0m _maybe_populate_workload_tag(params)\n\u001B[0;32m--> 952\u001B[0m data \u001B[38;5;241m=\u001B[39m \u001B[43m_execute_cloud_call\u001B[49m\u001B[43m(\u001B[49m\n\u001B[1;32m    953\u001B[0m \u001B[43m    \u001B[49m\u001B[43m_get_cloud_projects_raw\u001B[49m\u001B[43m(\u001B[49m\u001B[43m)\u001B[49m\n\u001B[1;32m    954\u001B[0m \u001B[43m    \u001B[49m\u001B[38;5;241;43m.\u001B[39;49m\u001B[43mimage\u001B[49m\u001B[43m(\u001B[49m\u001B[43m)\u001B[49m\n\u001B[1;32m    955\u001B[0m \u001B[43m    \u001B[49m\u001B[38;5;241;43m.\u001B[39;49m\u001B[43mcomputePixels\u001B[49m\u001B[43m(\u001B[49m\u001B[43mproject\u001B[49m\u001B[38;5;241;43m=\u001B[39;49m\u001B[43m_get_projects_path\u001B[49m\u001B[43m(\u001B[49m\u001B[43m)\u001B[49m\u001B[43m,\u001B[49m\u001B[43m \u001B[49m\u001B[43mbody\u001B[49m\u001B[38;5;241;43m=\u001B[39;49m\u001B[43mparams\u001B[49m\u001B[43m)\u001B[49m\n\u001B[1;32m    956\u001B[0m \u001B[43m\u001B[49m\u001B[43m)\u001B[49m\n\u001B[1;32m    957\u001B[0m \u001B[38;5;28;01mif\u001B[39;00m converter:\n",
      "File \u001B[0;32m~/.virtualenvs/aiaccesibility/lib/python3.10/site-packages/ee/data.py:408\u001B[0m, in \u001B[0;36m_execute_cloud_call\u001B[0;34m(call, num_retries)\u001B[0m\n\u001B[1;32m    407\u001B[0m \u001B[38;5;28;01mexcept\u001B[39;00m googleapiclient\u001B[38;5;241m.\u001B[39merrors\u001B[38;5;241m.\u001B[39mHttpError \u001B[38;5;28;01mas\u001B[39;00m e:\n\u001B[0;32m--> 408\u001B[0m   \u001B[38;5;28;01mraise\u001B[39;00m _translate_cloud_exception(e)\n",
      "\u001B[0;31mEEException\u001B[0m: An internal error has occurred (request: 6ff4ddcc-5d65-4acd-8ad7-5cf395adce8a)",
      "\nDuring handling of the above exception, another exception occurred:\n",
      "\u001B[0;31mException\u001B[0m                                 Traceback (most recent call last)",
      "Cell \u001B[0;32mIn[12], line 5\u001B[0m\n\u001B[1;32m      2\u001B[0m ndvi_array \u001B[38;5;241m=\u001B[39m july_ndvi_collection\u001B[38;5;241m.\u001B[39mtoArray()\n\u001B[1;32m      4\u001B[0m \u001B[38;5;66;03m# Get the NDVI array as a numpy array\u001B[39;00m\n\u001B[0;32m----> 5\u001B[0m ndvi_np_array \u001B[38;5;241m=\u001B[39m \u001B[43mgeemap\u001B[49m\u001B[38;5;241;43m.\u001B[39;49m\u001B[43mee_to_numpy\u001B[49m\u001B[43m(\u001B[49m\n\u001B[1;32m      6\u001B[0m \u001B[43m    \u001B[49m\u001B[43mndvi_array\u001B[49m\u001B[43m,\u001B[49m\u001B[43m \u001B[49m\n\u001B[1;32m      7\u001B[0m \u001B[43m    \u001B[49m\u001B[43mregion\u001B[49m\u001B[38;5;241;43m=\u001B[39;49m\u001B[43mprague\u001B[49m\u001B[43m,\u001B[49m\u001B[43m \u001B[49m\n\u001B[1;32m      8\u001B[0m \u001B[43m    \u001B[49m\u001B[43mscale\u001B[49m\u001B[38;5;241;43m=\u001B[39;49m\u001B[38;5;241;43m30\u001B[39;49m\n\u001B[1;32m      9\u001B[0m \u001B[43m)\u001B[49m\n\u001B[1;32m     11\u001B[0m \u001B[38;5;66;03m# Print the shape of the resulting array\u001B[39;00m\n\u001B[1;32m     12\u001B[0m \u001B[38;5;28mprint\u001B[39m(\u001B[38;5;124mf\u001B[39m\u001B[38;5;124m\"\u001B[39m\u001B[38;5;124mNDVI array shape: \u001B[39m\u001B[38;5;132;01m{\u001B[39;00mndvi_np_array\u001B[38;5;241m.\u001B[39mshape\u001B[38;5;132;01m}\u001B[39;00m\u001B[38;5;124m\"\u001B[39m)\n",
      "File \u001B[0;32m~/.virtualenvs/aiaccesibility/lib/python3.10/site-packages/geemap/common.py:3416\u001B[0m, in \u001B[0;36mee_to_numpy\u001B[0;34m(ee_object, region, scale, bands, **kwargs)\u001B[0m\n\u001B[1;32m   3414\u001B[0m     \u001B[38;5;28;01mreturn\u001B[39;00m array\n\u001B[1;32m   3415\u001B[0m \u001B[38;5;28;01mexcept\u001B[39;00m \u001B[38;5;167;01mException\u001B[39;00m \u001B[38;5;28;01mas\u001B[39;00m e:\n\u001B[0;32m-> 3416\u001B[0m     \u001B[38;5;28;01mraise\u001B[39;00m \u001B[38;5;167;01mException\u001B[39;00m(e)\n",
      "\u001B[0;31mException\u001B[0m: An internal error has occurred (request: 6ff4ddcc-5d65-4acd-8ad7-5cf395adce8a)"
     ]
    }
   ],
   "source": [
    "# Convert the image collection to an array\n",
    "ndvi_array = july_ndvi_collection.toArray()\n",
    "\n",
    "# Get the NDVI array as a numpy array\n",
    "ndvi_np_array = geemap.ee_to_numpy(\n",
    "    ndvi_array, \n",
    "    region=prague, \n",
    "    scale=30\n",
    ")\n",
    "\n",
    "# Print the shape of the resulting array\n",
    "print(f\"NDVI array shape: {ndvi_np_array.shape}\")\n",
    "\n",
    "# Save the array to a file\n",
    "np.save('july_ndvi_array_2010_2024.npy', ndvi_np_array)\n",
    "print(\"NDVI array saved to july_ndvi_array_2010_2024.npy\")"
   ],
   "metadata": {
    "collapsed": false,
    "ExecuteTime": {
     "end_time": "2024-09-14T23:14:50.201948740Z",
     "start_time": "2024-09-14T23:13:59.456638011Z"
    }
   },
   "id": "43fc7eb47f9fff22"
  }
 ],
 "metadata": {
  "kernelspec": {
   "display_name": "Python 3",
   "language": "python",
   "name": "python3"
  },
  "language_info": {
   "codemirror_mode": {
    "name": "ipython",
    "version": 2
   },
   "file_extension": ".py",
   "mimetype": "text/x-python",
   "name": "python",
   "nbconvert_exporter": "python",
   "pygments_lexer": "ipython2",
   "version": "2.7.6"
  }
 },
 "nbformat": 4,
 "nbformat_minor": 5
}
